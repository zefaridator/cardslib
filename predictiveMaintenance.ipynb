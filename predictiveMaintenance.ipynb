{
  "nbformat": 4,
  "nbformat_minor": 0,
  "metadata": {
    "colab": {
      "name": "predictiveMaintenance.ipynb",
      "provenance": [],
      "collapsed_sections": [],
      "mount_file_id": "1ZhRlqf2MOYS4sxjnBe95Tl0Z6VnOdsjb",
      "authorship_tag": "ABX9TyMm87Gc4qY0i0R0osMC17K8",
      "include_colab_link": true
    },
    "kernelspec": {
      "name": "python3",
      "display_name": "Python 3"
    },
    "language_info": {
      "name": "python"
    }
  },
  "cells": [
    {
      "cell_type": "markdown",
      "metadata": {
        "id": "view-in-github",
        "colab_type": "text"
      },
      "source": [
        "<a href=\"https://colab.research.google.com/github/zefaridator/cardslib/blob/master/predictiveMaintenance.ipynb\" target=\"_parent\"><img src=\"https://colab.research.google.com/assets/colab-badge.svg\" alt=\"Open In Colab\"/></a>"
      ]
    },
    {
      "cell_type": "markdown",
      "metadata": {
        "id": "eTU3J70GaovR"
      },
      "source": [
        "# Predictive maintenance poc\n",
        "---\n",
        "\n",
        "The goal of this challenge is to predict the RUL (Remaining Useful Life) of turbofan engines.\n",
        "\n",
        "The dataset consists of different multivariate time-series. These different time-series refer to different engines ( engineno in the dataset). The sampling of the time series is 1 point per engine cycle ( timein_cycles in the dataset).\n",
        "\n",
        "The dataset is split into train data and test data to evaluate your model.\n",
        "\n",
        "In the train dataset: the engine runs until failure. It means that for each data point we can associate the RUL (Remaining Useful Life in cycles). This column is present in the train dataset (RUL).\n",
        "\n",
        "In the test dataset: The engine runs until a certain point. What you need to predict is the RUL at the last point of the dataset.\n"
      ]
    },
    {
      "cell_type": "code",
      "metadata": {
        "id": "Vvgupe_3a0ZC"
      },
      "source": [
        ""
      ],
      "execution_count": null,
      "outputs": []
    },
    {
      "cell_type": "markdown",
      "metadata": {
        "id": "SEYyxmyna1Tp"
      },
      "source": [
        "### install pysurvival"
      ]
    }
  ]
}