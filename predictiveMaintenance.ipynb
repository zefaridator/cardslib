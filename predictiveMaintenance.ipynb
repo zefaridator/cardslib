{
  "nbformat": 4,
  "nbformat_minor": 0,
  "metadata": {
    "colab": {
      "name": "predictiveMaintenance.ipynb",
      "provenance": [],
      "collapsed_sections": [],
      "mount_file_id": "1ZhRlqf2MOYS4sxjnBe95Tl0Z6VnOdsjb",
      "authorship_tag": "ABX9TyPRCZFdnJnNM/A70xshYP72",
      "include_colab_link": true
    },
    "kernelspec": {
      "name": "python3",
      "display_name": "Python 3"
    },
    "language_info": {
      "name": "python"
    }
  },
  "cells": [
    {
      "cell_type": "markdown",
      "metadata": {
        "id": "view-in-github",
        "colab_type": "text"
      },
      "source": [
        "<a href=\"https://colab.research.google.com/github/zefaridator/cardslib/blob/master/predictiveMaintenance.ipynb\" target=\"_parent\"><img src=\"https://colab.research.google.com/assets/colab-badge.svg\" alt=\"Open In Colab\"/></a>"
      ]
    },
    {
      "cell_type": "markdown",
      "metadata": {
        "id": "eTU3J70GaovR"
      },
      "source": [
        "# Predictive maintenance poc\n",
        "---\n",
        "https://www.kaggle.com/c/predictive-maintenance/data\n"
      ]
    },
    {
      "cell_type": "markdown",
      "metadata": {
        "id": "RowxZLFljghz"
      },
      "source": [
        "\n",
        "The goal of this challenge is to predict the RUL (Remaining Useful Life) of turbofan engines , with the Nasa Turbofan Engines Dataset.\n",
        "\n",
        "The dataset consists of different multivariate time-series. These different time-series refer to different engines ( engineno in the dataset). The sampling of the time series is 1 point per engine cycle ( timein_cycles in the dataset).\n",
        "\n",
        "The dataset is split into train data and test data to evaluate your model.\n",
        "\n",
        "In the train dataset: the engine runs until failure. It means that for each data point we can associate the RUL (Remaining Useful Life in cycles). This column is present in the train dataset (RUL).\n",
        "\n",
        "In the test dataset: The engine runs until a certain point. What you need to predict is the RUL at the last point of the dataset.\n",
        "\n",
        "### data structure\n",
        "The dataset consists of different multivariate time-series. These different time-series refers to different engine ('engine_no' in the dataset). The sampling of the time series is 1 point per engine cycle ('time_in_cycles' in the dataset).\n",
        "\n",
        "The time-series contain some operational features and some sensor features (explicitly mentionned in the header).\n",
        "\n",
        "README:\n",
        "\n",
        "Data Set: FD001 Train trjectories: 100 Test trajectories: 100 Conditions: ONE (Sea Level) Fault Modes: ONE (HPC Degradation)\n",
        "\n",
        "Data Set: FD002 Train trjectories: 260 Test trajectories: 259 Conditions: SIX Fault Modes: ONE (HPC Degradation)\n",
        "\n",
        "Data Set: FD003 Train trjectories: 100 Test trajectories: 100 Conditions: ONE (Sea Level) Fault Modes: TWO (HPC Degradation, Fan Degradation)\n",
        "\n",
        "Data Set: FD004 Train trjectories: 248 Test trajectories: 249 Conditions: SIX Fault Modes: TWO (HPC Degradation, Fan Degradation)\n",
        "\n",
        "Experimental Scenario\n",
        "\n",
        "Data sets consists of multiple multivariate time series. Each data set is further divided into training and test subsets. Each time series is from a different engine � i.e., the data can be considered to be from a fleet of engines of the same type. Each engine starts with different degrees of initial wear and manufacturing variation which is unknown to the user. This wear and variation is considered normal, i.e., it is not considered a fault condition. There are three operational settings that have a substantial effect on engine performance. These settings are also included in the data. The data is contaminated with sensor noise.\n",
        "\n",
        "The engine is operating normally at the start of each time series, and develops a fault at some point during the series. In the training set, the fault grows in magnitude until system failure. In the test set, the time series ends some time prior to system failure. The objective of the competition is to predict the number of remaining operational cycles before failure in the test set, i.e., the number of operational cycles after the last cycle that the engine will continue to operate. Also provided a vector of true Remaining Useful Life (RUL) values for the test data.\n",
        "\n",
        "The data are provided as a zip-compressed text file with 26 columns of numbers, separated by spaces. Each row is a snapshot of data taken during a single operational cycle, each column is a different variable. The columns correspond to: 1) unit number 2) time, in cycles 3) operational setting 1 4) operational setting 2 5) operational setting 3 6) sensor measurement 1 7) sensor measurement 2 ... 26) sensor measurement 26\n",
        "\n",
        "Reference: A. Saxena, K. Goebel, D. Simon, and N. Eklund, �Damage Propagation Modeling for Aircraft Engine Run-to-Failure Simulation�, in the Proceedings of the Ist International Conference on Prognostics and Health Management (PHM08), Denver CO, Oct 2008."
      ]
    },
    {
      "cell_type": "markdown",
      "metadata": {
        "id": "hvY7wHOPgx0i"
      },
      "source": [
        "### Dataset exploration\n"
      ]
    },
    {
      "cell_type": "code",
      "metadata": {
        "id": "-L7-FSD4g6di"
      },
      "source": [
        "datapath = \"/content/drive/MyDrive/PredictiveMaintenance/NasaTurboFan/\"\n",
        "\n"
      ],
      "execution_count": 5,
      "outputs": []
    }
  ]
}